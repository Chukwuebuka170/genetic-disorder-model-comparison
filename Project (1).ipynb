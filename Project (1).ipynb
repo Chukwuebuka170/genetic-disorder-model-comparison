{
 "cells": [
  {
   "cell_type": "markdown",
   "id": "d59410c7-291f-48d9-a73f-5b556864f7dc",
   "metadata": {},
   "source": [
    "# Projct Title: Genetic Disorder Data Analysis & Model Comparison"
   ]
  },
  {
   "cell_type": "markdown",
   "id": "d78951c0-98d6-4ced-b877-acd0e8227fbc",
   "metadata": {},
   "source": [
    "# Objective:"
   ]
  },
  {
   "cell_type": "markdown",
   "id": "4e723ffa-e9af-446a-a464-198fb95ad5f2",
   "metadata": {},
   "source": [
    "The objective of this assignment is to analyze a **Genetic Disorder Dataset**, clean and preprocess the data, and compare the performance of three machine learning models: **Support Vector Machine (SVM)**, **Random Forest**, **and Decision Tree** to determine the best model fit for the dataset."
   ]
  },
  {
   "cell_type": "markdown",
   "id": "09ae603c-74c7-44a8-84d9-5fcea252570b",
   "metadata": {},
   "source": [
    "**Use Statuts Column as the dependent variable(y)**"
   ]
  },
  {
   "cell_type": "markdown",
   "id": "a083f4d0-4424-4926-b897-45b6249cdad9",
   "metadata": {},
   "source": [
    "# Instructions"
   ]
  },
  {
   "cell_type": "markdown",
   "id": "3c257e70-fee1-4d53-91f3-cd0619900c59",
   "metadata": {},
   "source": [
    "# 1.Data Importing & Inspection"
   ]
  },
  {
   "cell_type": "markdown",
   "id": "d46ecaf1-737c-4231-aad8-9986334f33c9",
   "metadata": {},
   "source": [
    "# 2.Data Cleaning:"
   ]
  },
  {
   "cell_type": "markdown",
   "id": "0b73e24c-d664-44c8-abf0-aa9ff6ad13cc",
   "metadata": {},
   "source": [
    "**Hint**"
   ]
  },
  {
   "cell_type": "markdown",
   "id": "1feba0d5-12f6-4606-b316-dab83f6d9b4f",
   "metadata": {},
   "source": [
    "a.\tRename the column names to remove all spaces and special characters."
   ]
  },
  {
   "cell_type": "markdown",
   "id": "f8a51e80-ce1b-4987-a2c5-5e4d21be6c0c",
   "metadata": {},
   "source": [
    "**example**"
   ]
  },
  {
   "cell_type": "markdown",
   "id": "a47a147e-2b5a-43f4-8d35-dc210faeb0ae",
   "metadata": {},
   "source": [
    "-\tRename \"Autopsy shows birth defect (if applicable)\" to \"Autopsy_shows_birth_defect\".\n",
    "\n",
    "-\tRename \"H/O serious maternal illness\" to \"HO_serious_maternal_illness\".\n",
    "\n",
    "-\tRename \"H/O radiation exposure (x-ray)\" to \"HO_radiation_exposure\", etc.\n"
   ]
  },
  {
   "cell_type": "markdown",
   "id": "c862a01f-48fa-4f7d-a3f3-56e0f12e081e",
   "metadata": {},
   "source": [
    "b.\tDrop all irrelevant columns."
   ]
  },
  {
   "cell_type": "markdown",
   "id": "9e713569-26c2-4504-87df-01137b29e9f3",
   "metadata": {},
   "source": [
    "c.\t check the unique keys in each column to identify and remove irrelevant values."
   ]
  },
  {
   "cell_type": "markdown",
   "id": "c87954ab-6550-4ace-8eb5-6d13cf5f095c",
   "metadata": {},
   "source": [
    "# 3. Exploratory Data Analysis (EDA)\n",
    "   \n",
    "●\tPerform **univariate analysis** on key features (e.g., Barchart, histograms, boxplots).\n",
    "\n",
    "●\tConduct **bivariate analysis** (e.g., correlation heatmap, scatterplots).\n",
    "\n",
    "●\tPerform **multivariate analysis** (e.g., PCA if applicable).\n",
    "\n",
    "●\tIdentify patterns or trends from the dataset.\n"
   ]
  },
  {
   "cell_type": "markdown",
   "id": "efc9b205-1ce3-4a96-843f-d9a338e2d64d",
   "metadata": {},
   "source": [
    "# 4. Data Preprocessing:"
   ]
  },
  {
   "cell_type": "markdown",
   "id": "996d13a5-6c7e-4a0d-b32b-2e333a6fa16f",
   "metadata": {},
   "source": [
    "# 5. Model Training & Evaluation\n",
    "   \n",
    "●\tTrain the following model\n",
    "\n",
    "  **○\tSupport Vector Machine (SVM)**\n",
    "\n",
    "  **○\tRandom Forest**\n",
    "\n",
    "  **○\tDecision Tree**\n",
    "\n",
    "●\tDetermine the best model based on performance metrics and justify your choice.\n"
   ]
  },
  {
   "cell_type": "markdown",
   "id": "a2333990-e38e-4a59-90a6-50a691e89785",
   "metadata": {},
   "source": [
    "# 6. Conclusion & Recommendations \n",
    "\n",
    "●\tSummarize key findings from the analysis.\n",
    "\n",
    "●\tJustify the best-performing model based on the results.\n",
    "\n",
    "●\tProvide recommendations for improving model performance.\n",
    "\n",
    "●\tDiscuss any limitations of the dataset or models.\n"
   ]
  },
  {
   "cell_type": "markdown",
   "id": "e8c93e50-ef89-4d55-a082-8626270f8cf0",
   "metadata": {},
   "source": [
    "# Importing the libries"
   ]
  },
  {
   "cell_type": "code",
   "execution_count": null,
   "id": "6046dc4f-88ef-44a0-b5e7-b6104c61cdaf",
   "metadata": {},
   "outputs": [],
   "source": [
    "import pandas as pd\n",
    "import numpy as np\n",
    "import matplotlib.pyplot as plt\n",
    "import seaborn as sns"
   ]
  },
  {
   "cell_type": "markdown",
   "id": "743263ab-336d-479d-ac3a-be17e029091b",
   "metadata": {},
   "source": [
    "# Importing the dataset"
   ]
  },
  {
   "cell_type": "code",
   "execution_count": null,
   "id": "1dca32e0-a073-41d8-9e4f-58cc1139280b",
   "metadata": {},
   "outputs": [],
   "source": [
    "df = pd .read_csv(\"C:/Users/Oceande/Genetic_disorder.csv\")\n",
    "df.head()"
   ]
  },
  {
   "cell_type": "markdown",
   "id": "d8d82d71-4ca7-42ae-b68a-cfc4b36ccf23",
   "metadata": {},
   "source": [
    "# DATASET DESCRIPTION\n",
    "\n",
    "1.\tPatient Id – A special code given to each patient.\n",
    "2.\tPatient Age – How old the patient is.\n",
    "3.\tGenes in mother's side – Did the patient get a certain gene from their mom? (Yes/No)\n",
    "4.\tInherited from father – Did the patient get a certain gene from their dad? (Yes/No)\n",
    "5.\tMaternal gene – Extra info about genes from the mother (Yes/No).\n",
    "6.\tPaternal gene – Extra info about genes from the father (Yes/No).\n",
    "7.\tBlood cell count (mcL) – The number of blood cells in a tiny drop of blood.\n",
    "8.\tPatient First Name – The first name of the patient.\n",
    "9.\tFamily Name – The last name of the patient.\n",
    "10.\tFather's name – The name of the patient’s father.\n",
    "11.\tMother's age – How old the mother is.\n",
    "12.\tFather's age – How old the father is.\n",
    "13.\tInstitute Name – The name of the hospital or lab where the patient was treated.\n",
    "14.\tLocation of Institute – The place where the hospital or lab is.\n",
    "15.\tStatus – The condition or progress of the patient \n",
    "16.\tRespiratory Rate (breaths/min) – How many breaths the patient takes in a minute.\n",
    "17.\tHeart Rate (rates/min) – How many times the heart beats in a minute.\n",
    "18.\tTest 1 – Result of the first medical test.\n",
    "19.\tTest 2 – Result of the second medical test.\n",
    "20.\tTest 3 – Result of the third medical test.\n",
    "21.\tTest 4 – Result of the fourth medical test.\n",
    "22.\tTest 5 – Result of the fifth medical test.\n",
    "23.\tParental consent – Did the parents give permission for medical tests? (Yes/No)\n",
    "24.\tFollow-up – Did the patient return for more checkups?\n",
    "25.\tGender – Whether the patient is male or female.\n",
    "26.\tBirth asphyxia – Did the baby have trouble breathing at birth? (Yes/No)\n",
    "27.\tAutopsy shows birth defect (if applicable) – If the patient passed away, did they have birth defects?\n",
    "28.\tPlace of birth – Where the patient was born (e.g., hospital, home).\n",
    "29.\tFolic acid details (peri-conceptional) – Did the mother take folic acid before/during pregnancy?\n",
    "30.\tH/O serious maternal illness – Did the mother have any serious illness? (H/O = history of)\n",
    "31.\tH/O radiation exposure (x-ray) – Was the mother exposed to X-rays during pregnancy?\n",
    "32.\tH/O substance abuse – Did the mother use harmful substances during pregnancy?\n",
    "33.\tAssisted conception IVF/ART – Was the baby conceived using medical help (like IVF)?\n",
    "34.\tHistory of anomalies in previous pregnancies – Did the mother have any pregnancy problems before?\n",
    "35.\tNo. of previous abortion – How many times the mother had a miscarriage or abortion before.\n",
    "36.\tBirth defects – Does the patient have any birth defects?\n",
    "37.\tWhite Blood cell count (thousand per microliter) – The number of white blood cells, which fight infections.\n",
    "38.\tBlood test result – The outcome of a blood test (e.g., normal, inconclusive).\n",
    "39.\tSymptom 1 – A sign of illness (1 = present, 0 = not present).\n",
    "40.\tSymptom 2 – Another sign of illness.\n",
    "41.\tSymptom 3 – Another sign of illness.\n",
    "42.\tSymptom 4 – Another sign of illness.\n",
    "43.\tSymptom 5 – Another sign of illness.\n",
    "44.\tGenetic Disorder – The type of disorder the patient has due to their genes.\n",
    "45.\tDisorder Subclass – A more specific name for the disorder.\n"
   ]
  },
  {
   "cell_type": "markdown",
   "id": "4d799220-7670-4da8-8b8d-a40ff2bb12ea",
   "metadata": {},
   "source": [
    "# Summarizing the numerical values"
   ]
  },
  {
   "cell_type": "code",
   "execution_count": null,
   "id": "daf48f34-d173-42e5-92f4-1454d4f16e85",
   "metadata": {},
   "outputs": [],
   "source": [
    "df.describe()"
   ]
  },
  {
   "cell_type": "markdown",
   "id": "342a8199-0516-49e5-81fa-f492bd67313a",
   "metadata": {},
   "source": [
    "# Summarizing the categorical values"
   ]
  },
  {
   "cell_type": "code",
   "execution_count": null,
   "id": "bbc6e5e0-50e9-43ca-bbf5-6866a2756f23",
   "metadata": {},
   "outputs": [],
   "source": [
    "df.describe(include=\"object\")"
   ]
  },
  {
   "cell_type": "markdown",
   "id": "58c044a9-eda6-4203-b096-d712bf62f781",
   "metadata": {},
   "source": [
    "# Checking for how many rows and columns that are in the dataset"
   ]
  },
  {
   "cell_type": "code",
   "execution_count": null,
   "id": "0894bff7-90ad-43a0-ac0e-95de9a06f311",
   "metadata": {},
   "outputs": [],
   "source": [
    "df.shape"
   ]
  },
  {
   "cell_type": "markdown",
   "id": "095dcaae-e05f-4d4a-84ad-346b1a536305",
   "metadata": {},
   "source": [
    "# Checking for a brief overview of the dataset"
   ]
  },
  {
   "cell_type": "code",
   "execution_count": null,
   "id": "9051d4fb-a1aa-465a-b9e0-469b2e88bb00",
   "metadata": {},
   "outputs": [],
   "source": [
    "df.info"
   ]
  },
  {
   "cell_type": "markdown",
   "id": "79da3131-d958-415d-b945-24806f854f38",
   "metadata": {},
   "source": [
    "# Checking for the columns name"
   ]
  },
  {
   "cell_type": "code",
   "execution_count": null,
   "id": "66b6e2ce-7ee6-4e49-8159-cd830890b5a6",
   "metadata": {},
   "outputs": [],
   "source": [
    "df.columns"
   ]
  },
  {
   "cell_type": "markdown",
   "id": "cba0d154-7b0d-4b16-82cf-7e70a204cbe2",
   "metadata": {},
   "source": [
    "# Handling the Uneeded Columns"
   ]
  },
  {
   "cell_type": "code",
   "execution_count": null,
   "id": "d917991b-d088-4a5f-af64-aada09b9e3d8",
   "metadata": {},
   "outputs": [],
   "source": [
    "df.drop([\"Patient Id\", \"Patient First Name\", \"Family Name\", \"Father's name\", \"Institute Name\", \"Location of Institute\"], axis=1, inplace=True)"
   ]
  },
  {
   "cell_type": "code",
   "execution_count": null,
   "id": "84b4132f-da15-451d-a5d0-248e696f5caa",
   "metadata": {},
   "outputs": [],
   "source": [
    "df.columns"
   ]
  },
  {
   "cell_type": "code",
   "execution_count": null,
   "id": "1238f202-fadd-4269-93d8-3fe3666d60be",
   "metadata": {},
   "outputs": [],
   "source": [
    "df.shape"
   ]
  },
  {
   "cell_type": "markdown",
   "id": "59c08b5d-5506-484b-8041-6c0934ebf642",
   "metadata": {},
   "source": [
    "# Editing the column names"
   ]
  },
  {
   "cell_type": "code",
   "execution_count": null,
   "id": "057f1ed6-6fcb-4912-9847-31d3dff10ee1",
   "metadata": {},
   "outputs": [],
   "source": [
    "df.rename(columns = {\"Patient Age\": \"Patient_Age\", \"Genes in mother's side\": \"Genes_in_mother's_side\", \"Inherited from father\": \"Inherited_from_father\",\n",
    "                   \"Maternal gene\": \"Maternal_gene\", \"Paternal gene\": \"Paternal_gene\", \"Blood cell count (mcL)\": \"Blood_cell_count\",\n",
    "                   \"Mother's age\": \"Mother's_age\", \"Father's age\": \"Father's_age\", \"Status\": \"Status\", \"Respiratory Rate (breaths/min)\": \n",
    "                   \"Respiratory_Rate\", \"Heart Rate (rates/min\": \"Heart_Rate\", \"Test 1\": \"Test_1\", \"Test 2\": \"Test_2\", \"Test 3\": \"Test_3\", \n",
    "                   \"Test 4\": \"Test_4\", \"Test 5\": \"Test_5\", \"Parental consent\": \"Parental_consent\", \"Follow-up\": \"Follow_up\", \"Gender\": \"Gender\",\n",
    "                   \"Birth asphyxia\": \"Birth_asphyxia\", \"Autopsy shows birth defect (if applicable)\": \"Autopsy_shows_birth_defect\", \n",
    "                   \"Place of birth\": \"Place_of_birth\", \"Folic acid details (peri-conceptional)\": \"Folic_acid_details\", \"H/O serious maternal illness\":\n",
    "                   \"HO_serious_maternal_illness\", \"H/O radiation exposure (x-ray)\": \"HO_radiation_exposure\", \"H/O substance abuse\": \n",
    "                   \"HO_substance_abuse\", \"Assisted conception IVF/ART\": \"Assisted_conception_IVF_ART\", \"History of anomalies in previous pregnancies\": \n",
    "                   \"History_of_anomalies_in_previous_pregnancies\", \"No. of previous abortion\": \"No_of_previous_abortion\", \"Birth defects\": \n",
    "                   \"Birth_defects\", \"White Blood cell count (thousand per microliter)\": \"White_Blood_cell_count\", \"Blood test result\": \n",
    "                   \"Blood_test_result\", \"Symptom 1\": \"Symptom_1\", \"Symptom 2\": \"Symptom_2\", \"Symptom 3\": \"Symptom_3\", \"Symptom 4\": \"Symptom_4\", \n",
    "                   \"Symptom 5\": \"Symptom_5\", \"Genetic Disorder\": \"Genetic_Disorder\", \"Disorder Subclass\": \"Disorder_Subclass\"}, inplace = True)"
   ]
  },
  {
   "cell_type": "code",
   "execution_count": null,
   "id": "97e5de3e-9a32-4984-b5ec-5f9fedff1e5e",
   "metadata": {},
   "outputs": [],
   "source": [
    "df.columns"
   ]
  },
  {
   "cell_type": "code",
   "execution_count": null,
   "id": "93215d2c-3ead-42b7-a085-e45ba3c508d8",
   "metadata": {},
   "outputs": [],
   "source": [
    "df.head()"
   ]
  },
  {
   "cell_type": "markdown",
   "id": "af588d47-1f75-47d8-a9f1-f0196d42e43d",
   "metadata": {},
   "source": [
    "# Checking for the data types"
   ]
  },
  {
   "cell_type": "code",
   "execution_count": null,
   "id": "34885388-3f70-4cc9-9cb2-4b2906173d94",
   "metadata": {},
   "outputs": [],
   "source": [
    "df.dtypes"
   ]
  },
  {
   "cell_type": "markdown",
   "id": "b7fb0f69-d82a-4546-b01d-11edbb6fab40",
   "metadata": {},
   "source": [
    "# Checking for unique/inconsistent values"
   ]
  },
  {
   "cell_type": "code",
   "execution_count": null,
   "id": "6d350c6e-49ce-47e5-bab6-f770446a5793",
   "metadata": {},
   "outputs": [],
   "source": [
    "df[\"Genes_in_mother's_side\"].unique()"
   ]
  },
  {
   "cell_type": "code",
   "execution_count": null,
   "id": "c52c0ad2-dacb-4848-a28c-25e1a67dda19",
   "metadata": {},
   "outputs": [],
   "source": [
    "df[\"Inherited_from_father\"].unique()"
   ]
  },
  {
   "cell_type": "code",
   "execution_count": null,
   "id": "20da3765-46d5-487f-af55-48a5b1ebcaea",
   "metadata": {},
   "outputs": [],
   "source": [
    "df[\"Maternal_gene\"].unique()"
   ]
  },
  {
   "cell_type": "code",
   "execution_count": null,
   "id": "3cd3ed36-ea84-4e68-9be9-2828a3bbc8a5",
   "metadata": {},
   "outputs": [],
   "source": [
    "df[\"Paternal_gene\"].unique()"
   ]
  },
  {
   "cell_type": "code",
   "execution_count": null,
   "id": "0284bc46-6c5c-45bf-8d56-cf2e16668bb2",
   "metadata": {},
   "outputs": [],
   "source": [
    "df[\"Status\"].unique()"
   ]
  },
  {
   "cell_type": "code",
   "execution_count": null,
   "id": "198ece33-9e2f-41f8-9c0b-d38d69b2af3f",
   "metadata": {},
   "outputs": [],
   "source": [
    "df[\"Respiratory_Rate\"].unique()"
   ]
  },
  {
   "cell_type": "code",
   "execution_count": null,
   "id": "cc18451d-5914-4f92-a05e-bf214f52d775",
   "metadata": {},
   "outputs": [],
   "source": [
    "df[\"Heart_Rate\"].unique()"
   ]
  },
  {
   "cell_type": "code",
   "execution_count": null,
   "id": "ae3f51bb-c194-47a8-84b1-37373b07beac",
   "metadata": {},
   "outputs": [],
   "source": [
    "df[\"Parental_consent\"].unique()"
   ]
  },
  {
   "cell_type": "code",
   "execution_count": null,
   "id": "9272edbd-d053-4be1-96b3-20f1e4221979",
   "metadata": {},
   "outputs": [],
   "source": [
    "df[\"Follow_up\"].unique()"
   ]
  },
  {
   "cell_type": "code",
   "execution_count": null,
   "id": "9e1d544c-0d3c-45ee-9a90-f896ff723dbf",
   "metadata": {},
   "outputs": [],
   "source": [
    "df[\"Gender\"].unique()"
   ]
  },
  {
   "cell_type": "code",
   "execution_count": null,
   "id": "253edd61-5c35-4fa2-ad0c-b22e971311d5",
   "metadata": {},
   "outputs": [],
   "source": [
    "df[\"Autopsy_shows_birth_defect\"].unique()"
   ]
  },
  {
   "cell_type": "code",
   "execution_count": null,
   "id": "79217c6f-9e85-43cd-8acf-ce0d10ad8da8",
   "metadata": {},
   "outputs": [],
   "source": [
    "df[\"Birth_asphyxia\"].unique()"
   ]
  },
  {
   "cell_type": "code",
   "execution_count": null,
   "id": "d2fdf5d0-d127-468c-ba9b-dc3d243c8745",
   "metadata": {},
   "outputs": [],
   "source": [
    "df[\"Place_of_birth\"].unique()"
   ]
  },
  {
   "cell_type": "code",
   "execution_count": null,
   "id": "3e4c52ad-6b2f-4e55-85d6-69bea599029f",
   "metadata": {},
   "outputs": [],
   "source": [
    "df[\"Folic_acid_details\"].unique()"
   ]
  },
  {
   "cell_type": "code",
   "execution_count": null,
   "id": "bf6dd772-3286-428f-b6c4-9022915c5b29",
   "metadata": {},
   "outputs": [],
   "source": [
    "df[\"HO_serious_maternal_illness\"].unique()"
   ]
  },
  {
   "cell_type": "code",
   "execution_count": null,
   "id": "09c8ccb6-805a-419c-869e-ea66d704a4a7",
   "metadata": {},
   "outputs": [],
   "source": [
    "df[\"HO_radiation_exposure\"].unique()"
   ]
  },
  {
   "cell_type": "code",
   "execution_count": null,
   "id": "d3361737-554a-4c71-8a62-ba389e6dd46a",
   "metadata": {},
   "outputs": [],
   "source": [
    "df[\"HO_substance_abuse\"].unique()"
   ]
  },
  {
   "cell_type": "code",
   "execution_count": null,
   "id": "958dfd4b-2852-4772-8aa4-7c254122e1ba",
   "metadata": {},
   "outputs": [],
   "source": [
    "df[\"Assisted_conception_IVF_ART\"].unique()"
   ]
  },
  {
   "cell_type": "code",
   "execution_count": null,
   "id": "b2ff26f4-7a94-4a20-ab30-a6ec1d1c5da6",
   "metadata": {},
   "outputs": [],
   "source": [
    "df[\"History_of_anomalies_in_previous_pregnancies\"].unique()"
   ]
  },
  {
   "cell_type": "code",
   "execution_count": null,
   "id": "60cc59e3-625b-4a7e-b8b1-d94f766cccae",
   "metadata": {},
   "outputs": [],
   "source": [
    "df[\"Birth_defects\"].unique()"
   ]
  },
  {
   "cell_type": "code",
   "execution_count": null,
   "id": "a72ccc55-5a51-4e9a-8bd9-6691e9dbe5ea",
   "metadata": {},
   "outputs": [],
   "source": [
    "df[\"Blood_test_result\"].unique()"
   ]
  },
  {
   "cell_type": "code",
   "execution_count": null,
   "id": "ab1b87c7-4d6a-4038-87f9-5f0c1ef60e97",
   "metadata": {},
   "outputs": [],
   "source": [
    "df[\"Genetic_Disorder\"].unique()"
   ]
  },
  {
   "cell_type": "code",
   "execution_count": null,
   "id": "664cf2ef-9d1a-4ca3-875d-231278b5eab9",
   "metadata": {},
   "outputs": [],
   "source": [
    "df[\"Disorder_Subclass\"].unique()"
   ]
  },
  {
   "cell_type": "markdown",
   "id": "9b89af9c-7c89-4c1c-8a20-f360d23536c4",
   "metadata": {},
   "source": [
    "# Editting the Normal (30-60) in Respiratory_Rate"
   ]
  },
  {
   "cell_type": "code",
   "execution_count": null,
   "id": "ec3d212f-f9a3-4fc5-9d1f-78e231eb14be",
   "metadata": {},
   "outputs": [],
   "source": [
    "df[\"Respiratory_Rate\"] = df[\"Respiratory_Rate\"].str.replace(r\"\\s*\\(30-60\\)\", \"\", regex=True)"
   ]
  },
  {
   "cell_type": "code",
   "execution_count": null,
   "id": "3c1b7765-97ab-4199-b26c-e573e2d44b90",
   "metadata": {},
   "outputs": [],
   "source": [
    "print(df[\"Respiratory_Rate\"].unique())"
   ]
  },
  {
   "cell_type": "markdown",
   "id": "80d6076a-1833-4b77-9d34-17a60434ef1e",
   "metadata": {},
   "source": [
    "# Checking for missing values"
   ]
  },
  {
   "cell_type": "code",
   "execution_count": null,
   "id": "abec4a10-fe73-4212-aad2-6bf5e97721e5",
   "metadata": {},
   "outputs": [],
   "source": [
    "df.isnull().sum()"
   ]
  },
  {
   "cell_type": "markdown",
   "id": "75382459-0302-414d-8e0f-af92f104ef25",
   "metadata": {},
   "source": [
    "# Checking for duplicate"
   ]
  },
  {
   "cell_type": "code",
   "execution_count": null,
   "id": "dd8dd53a-6e00-447a-bed7-ef9a92713954",
   "metadata": {},
   "outputs": [],
   "source": [
    "df.duplicated().sum()"
   ]
  },
  {
   "cell_type": "markdown",
   "id": "4f3692c2-f36d-4786-aedb-bdbba969e50c",
   "metadata": {},
   "source": [
    "# Data cleaning"
   ]
  },
  {
   "cell_type": "code",
   "execution_count": null,
   "id": "93cb2e5d-3bbc-494c-af6f-2f80e2d48355",
   "metadata": {},
   "outputs": [],
   "source": [
    "df.dropna(inplace=True)"
   ]
  },
  {
   "cell_type": "code",
   "execution_count": null,
   "id": "f18f2bb9-a7c0-4534-a842-ecad35c2443c",
   "metadata": {},
   "outputs": [],
   "source": [
    "df.shape"
   ]
  },
  {
   "cell_type": "code",
   "execution_count": null,
   "id": "bb19b426-0940-411d-bf14-e80890144ca9",
   "metadata": {},
   "outputs": [],
   "source": [
    "df =  df[df.Gender != \"Ambiguous\"]"
   ]
  },
  {
   "cell_type": "code",
   "execution_count": null,
   "id": "c2879c03-1162-4421-a734-5482a846ca2d",
   "metadata": {},
   "outputs": [],
   "source": [
    "df.shape"
   ]
  },
  {
   "cell_type": "code",
   "execution_count": null,
   "id": "26c08484-ee44-4e03-8d3d-643b1cbcc579",
   "metadata": {},
   "outputs": [],
   "source": [
    "df = df[~df[\"Birth_asphyxia\"].isin([\"Not available\", \"No record\"])]"
   ]
  },
  {
   "cell_type": "code",
   "execution_count": null,
   "id": "1325f58f-6b5a-4241-bd70-cc0ad0ac8fd7",
   "metadata": {},
   "outputs": [],
   "source": [
    "df.shape\n"
   ]
  },
  {
   "cell_type": "code",
   "execution_count": null,
   "id": "121c7778-7750-4c9d-8d83-ba7a297ea706",
   "metadata": {},
   "outputs": [],
   "source": [
    "df =  df[df.Blood_test_result != \"inconclusive\"]"
   ]
  },
  {
   "cell_type": "code",
   "execution_count": null,
   "id": "02bd7395-5d5d-47b6-8e12-535c68968a73",
   "metadata": {},
   "outputs": [],
   "source": [
    "df.shape"
   ]
  },
  {
   "cell_type": "code",
   "execution_count": null,
   "id": "e181ae29-d4e8-4755-8ece-2ec4964e485c",
   "metadata": {},
   "outputs": [],
   "source": [
    "print(df[\"Gender\"].unique())\n",
    "print(df[\"Birth_asphyxia\"].unique())\n",
    "print(df[\"Autopsy_shows_birth_defect\"].unique())\n",
    "print(df[\"Birth_asphyxia\"].unique())\n",
    "print(df[\"HO_radiation_exposure\"].unique())\n",
    "print(df[\"HO_substance_abuse\"].unique())"
   ]
  },
  {
   "cell_type": "markdown",
   "id": "f782e01b-5477-43b3-bdc1-6f93e3c7da09",
   "metadata": {},
   "source": [
    "# Handling the underscore ('_') from the values in the columns HO_radiation_exposure and HO_substance_abuse."
   ]
  },
  {
   "cell_type": "code",
   "execution_count": null,
   "id": "01e50e15-ab4f-4211-a594-a82fe671adcd",
   "metadata": {},
   "outputs": [],
   "source": [
    "df[\"HO_radiation_exposure\"] = df[\"HO_radiation_exposure\"].astype(str).replace({\"_\": \"\", \"-\": None})\n",
    "df[\"HO_substance_abuse\"] = df[\"HO_substance_abuse\"].astype(str).replace({\"_\": \"\", \"-\": None})"
   ]
  },
  {
   "cell_type": "code",
   "execution_count": null,
   "id": "24e43492-534c-440d-a289-c920f4a413a7",
   "metadata": {},
   "outputs": [],
   "source": [
    "print(df[\"HO_radiation_exposure\"].unique())\n",
    "print(df[\"HO_substance_abuse\"].unique())\n"
   ]
  },
  {
   "cell_type": "markdown",
   "id": "98f1e9d8-d03f-453a-aad6-f00e04b900f4",
   "metadata": {},
   "source": [
    "# Dropping the None"
   ]
  },
  {
   "cell_type": "code",
   "execution_count": null,
   "id": "d58ce4ca-a752-4490-b226-4090497495a3",
   "metadata": {},
   "outputs": [],
   "source": [
    "df.dropna(subset=[\"HO_radiation_exposure\", \"HO_substance_abuse\", \"Blood_test_result\"], inplace=True)\n"
   ]
  },
  {
   "cell_type": "code",
   "execution_count": null,
   "id": "8a767851-02bf-4352-9187-97f043f38081",
   "metadata": {},
   "outputs": [],
   "source": [
    "print(df[\"HO_radiation_exposure\"].unique())\n",
    "print(df[\"HO_substance_abuse\"].unique())"
   ]
  },
  {
   "cell_type": "code",
   "execution_count": null,
   "id": "2c92b23f-d9d6-497e-b26d-3796681c8257",
   "metadata": {},
   "outputs": [],
   "source": [
    "df.shape"
   ]
  },
  {
   "cell_type": "markdown",
   "id": "ad857142-2a04-4abd-b9ee-fed829d60126",
   "metadata": {},
   "source": [
    "# Exploratory Data Analysis(EDA)"
   ]
  },
  {
   "cell_type": "markdown",
   "id": "70a0940d-a7cc-402a-9b18-cc26689c496d",
   "metadata": {},
   "source": [
    "## Univariate Analysis\n",
    "\n"
   ]
  },
  {
   "cell_type": "markdown",
   "id": "d4ee9c66-969d-4c97-af17-25c6b2ae0651",
   "metadata": {},
   "source": [
    "### Categorical Variables"
   ]
  },
  {
   "cell_type": "markdown",
   "id": "a0f9e752-028b-42d9-b199-a36f31ebe738",
   "metadata": {},
   "source": [
    "### Genes in mother's side"
   ]
  },
  {
   "cell_type": "code",
   "execution_count": null,
   "id": "ef9195b5-fe71-41ff-a3d9-06cadf5e0dc2",
   "metadata": {},
   "outputs": [],
   "source": [
    "sns.barplot(x = df[\"Genes_in_mother's_side\"].value_counts().index, y = df[\"Genes_in_mother's_side\"].value_counts())\n",
    "plt.title(\"Genes_in_mother's_side\")\n",
    "plt.show()"
   ]
  },
  {
   "cell_type": "markdown",
   "id": "86b30ba1-87c7-47d2-8633-543eaa65895e",
   "metadata": {},
   "source": [
    "# Inherited from father"
   ]
  },
  {
   "cell_type": "code",
   "execution_count": null,
   "id": "bfa8fe96-e27d-46b3-b80d-ab49fff40c25",
   "metadata": {},
   "outputs": [],
   "source": [
    "sns.barplot(x = df[\"Inherited_from_father\"].value_counts().index, y = df[\"Inherited_from_father\"].value_counts())\n",
    "plt.title(\"Inherited_from_father\")\n",
    "plt.show()"
   ]
  },
  {
   "cell_type": "markdown",
   "id": "de8436c0-4a05-462c-bd9e-46c07e41f13f",
   "metadata": {},
   "source": [
    "# Maternal gene"
   ]
  },
  {
   "cell_type": "code",
   "execution_count": null,
   "id": "1cb00e84-8176-4fa1-ac6e-3d25a494186b",
   "metadata": {},
   "outputs": [],
   "source": [
    "sns.barplot(x = df[\"Maternal_gene\"].value_counts().index, y = df[\"Maternal_gene\"].value_counts())\n",
    "plt.title(\"Maternal_gene\")\n",
    "plt.show()"
   ]
  },
  {
   "cell_type": "markdown",
   "id": "a88a7467-9731-4d87-b8eb-0fb3261e2723",
   "metadata": {},
   "source": [
    "# Paternal gene"
   ]
  },
  {
   "cell_type": "code",
   "execution_count": null,
   "id": "063a9efc-3944-4374-8a6f-16e38e2b8771",
   "metadata": {},
   "outputs": [],
   "source": [
    "sns.barplot(x = df[\"Paternal_gene\"].value_counts().index, y = df[\"Paternal_gene\"].value_counts())\n",
    "plt.title(\"Paternal_gene\")\n",
    "plt.show()"
   ]
  },
  {
   "cell_type": "markdown",
   "id": "5c025feb-6712-400b-a06b-578badeb51ef",
   "metadata": {},
   "source": [
    "# Status"
   ]
  },
  {
   "cell_type": "code",
   "execution_count": null,
   "id": "a95a64f7-c3f3-41d5-8e7d-6be2e4d1051e",
   "metadata": {},
   "outputs": [],
   "source": [
    "sns.barplot(x = df[\"Status\"].value_counts().index, y = df[\"Status\"].value_counts())\n",
    "plt.title(\"Status\")\n",
    "plt.show()"
   ]
  },
  {
   "cell_type": "markdown",
   "id": "28fbbb4e-1e30-4a4c-96db-5e3b8fad4886",
   "metadata": {},
   "source": [
    "# Respiratory Rate"
   ]
  },
  {
   "cell_type": "code",
   "execution_count": null,
   "id": "f86d980f-f1aa-43f2-8341-61e0a224b00a",
   "metadata": {},
   "outputs": [],
   "source": [
    "sns.barplot(x = df[\"Respiratory_Rate\"].value_counts().index, y = df[\"Respiratory_Rate\"].value_counts())\n",
    "plt.title(\"Respiratory_Rate\")\n",
    "plt.show()"
   ]
  },
  {
   "cell_type": "markdown",
   "id": "e0d151d0-c4ab-4927-a9f1-b227c582caed",
   "metadata": {},
   "source": [
    "# Heart Rate"
   ]
  },
  {
   "cell_type": "code",
   "execution_count": null,
   "id": "3199ddd6-c6a8-4a07-ba2e-fcd4217b6b04",
   "metadata": {},
   "outputs": [],
   "source": [
    "sns.barplot(x = df[\"Heart_Rate\"].value_counts().index, y = df[\"Heart_Rate\"].value_counts())\n",
    "plt.title(\"Heart_Rate\")\n",
    "plt.show()"
   ]
  },
  {
   "cell_type": "markdown",
   "id": "414f20b5-3836-417c-aa43-65bd8a884154",
   "metadata": {},
   "source": [
    "# Parental_consent"
   ]
  },
  {
   "cell_type": "code",
   "execution_count": null,
   "id": "34c1e943-7080-4b86-af9d-3230484e5a22",
   "metadata": {},
   "outputs": [],
   "source": [
    "sns.barplot(x = df[\"Parental_consent\"].value_counts().index, y = df[\"Parental_consent\"].value_counts())\n",
    "plt.title(\"Parental_consent\")\n",
    "plt.show()"
   ]
  },
  {
   "cell_type": "markdown",
   "id": "e77ae992-3b72-4bb4-a69a-e78f470166d8",
   "metadata": {},
   "source": [
    "# Follow Up"
   ]
  },
  {
   "cell_type": "code",
   "execution_count": null,
   "id": "79310fd7-4261-4544-82bb-b3778a146726",
   "metadata": {},
   "outputs": [],
   "source": [
    "sns.barplot(x = df[\"Follow_up\"].value_counts().index, y = df[\"Follow_up\"].value_counts())\n",
    "plt.title(\"Follow_up\")\n",
    "plt.show()"
   ]
  },
  {
   "cell_type": "markdown",
   "id": "88f9cc96-7f8e-4e52-b9b4-764b223c6369",
   "metadata": {},
   "source": [
    "# Gender"
   ]
  },
  {
   "cell_type": "code",
   "execution_count": null,
   "id": "3dde8f22-71a8-4f87-861a-ed0254385550",
   "metadata": {},
   "outputs": [],
   "source": [
    "sns.barplot(x = df['Gender'].value_counts().index, y = df['Gender'].value_counts())\n",
    "plt.title('Gender')\n",
    "plt.show()"
   ]
  },
  {
   "cell_type": "markdown",
   "id": "f2adc6e0-a8b7-49f9-8a69-19d766fa5a7a",
   "metadata": {},
   "source": [
    "# Birth Asphyxia"
   ]
  },
  {
   "cell_type": "code",
   "execution_count": null,
   "id": "cda6b5a3-9a7c-43d3-9e31-d6c89212c579",
   "metadata": {},
   "outputs": [],
   "source": [
    "sns.barplot(x = df[\"Birth_asphyxia\"].value_counts().index, y = df[\"Birth_asphyxia\"].value_counts())\n",
    "plt.title(\"Birth_asphyxia\")\n",
    "plt.show()"
   ]
  },
  {
   "cell_type": "markdown",
   "id": "42193743-1129-46ec-be6f-a3f185d46820",
   "metadata": {},
   "source": [
    "# Autopsy_shows_birth_defect"
   ]
  },
  {
   "cell_type": "code",
   "execution_count": null,
   "id": "7e3bcbb1-b1b3-463c-a8d2-e628cdd47db4",
   "metadata": {},
   "outputs": [],
   "source": [
    "sns.barplot(x = df[\"Autopsy_shows_birth_defect\"].value_counts().index, y = df[\"Autopsy_shows_birth_defect\"].value_counts())\n",
    "plt.title(\"Autopsy_shows_birth_defect\")\n",
    "plt.show()"
   ]
  },
  {
   "cell_type": "markdown",
   "id": "fd37de5c-e856-468f-a2db-d7b70c52c50d",
   "metadata": {},
   "source": [
    "# Place_of_birth"
   ]
  },
  {
   "cell_type": "code",
   "execution_count": null,
   "id": "5e212018-10c0-4577-b8bd-2ad261dd12d6",
   "metadata": {},
   "outputs": [],
   "source": [
    "sns.barplot(x = df[\"Place_of_birth\"].value_counts().index, y = df[\"Place_of_birth\"].value_counts())\n",
    "plt.title(\"Place_of_birth\")\n",
    "plt.show()"
   ]
  },
  {
   "cell_type": "markdown",
   "id": "21c4c87c-4ab5-4345-afa3-85de964952dc",
   "metadata": {},
   "source": [
    "# Folic_acid_details"
   ]
  },
  {
   "cell_type": "code",
   "execution_count": null,
   "id": "005ebd86-a1fa-4702-b662-e5c65e993a20",
   "metadata": {},
   "outputs": [],
   "source": [
    "sns.barplot(x = df[\"Folic_acid_details\"].value_counts().index, y = df[\"Folic_acid_details\"].value_counts())\n",
    "plt.title(\"Folic_acid_details\")\n",
    "plt.show()"
   ]
  },
  {
   "cell_type": "markdown",
   "id": "d1ca77d6-0226-4e14-9896-333e12f513d2",
   "metadata": {},
   "source": [
    "# HO_serious_maternal_illness "
   ]
  },
  {
   "cell_type": "code",
   "execution_count": null,
   "id": "e3325fa6-8f4a-4395-a497-4959372b6507",
   "metadata": {},
   "outputs": [],
   "source": [
    "sns.barplot(x = df[\"HO_serious_maternal_illness\"].value_counts().index, \n",
    "            y = df[\"HO_serious_maternal_illness\"].value_counts())\n",
    "plt.title(\"HO_serious_maternal_illness\")\n",
    "plt.show()\n",
    "\n"
   ]
  },
  {
   "cell_type": "markdown",
   "id": "c6195da9-3968-4496-880d-921e612efc82",
   "metadata": {},
   "source": [
    "### HO_radiation_exposure"
   ]
  },
  {
   "cell_type": "code",
   "execution_count": null,
   "id": "19fec6cb-7255-4aba-8fad-dc3d04afdce6",
   "metadata": {},
   "outputs": [],
   "source": [
    "sns.barplot(x = df[\"HO_radiation_exposure\"].value_counts().index, y = df[\"HO_radiation_exposure\"].value_counts())\n",
    "plt.title(\"HO_radiation_exposure\")\n",
    "plt.show()"
   ]
  },
  {
   "cell_type": "markdown",
   "id": "49a4227a-51a8-4881-875b-39065cc44e0e",
   "metadata": {},
   "source": [
    "### HO_substance_abuse"
   ]
  },
  {
   "cell_type": "code",
   "execution_count": null,
   "id": "53f51c74-3936-46ef-b885-328a46094b15",
   "metadata": {},
   "outputs": [],
   "source": [
    "sns.barplot(x = df[\"HO_substance_abuse\"].value_counts().index, y = df[\"HO_substance_abuse\"].value_counts())\n",
    "plt.title(\"HO_substance_abuse\")\n",
    "plt.show()"
   ]
  },
  {
   "cell_type": "markdown",
   "id": "2c9be383-7737-4ff7-b0a3-7ea907fe8987",
   "metadata": {},
   "source": [
    "# Assisted_conception_IVF_ART"
   ]
  },
  {
   "cell_type": "code",
   "execution_count": null,
   "id": "fec44eb7-2804-484a-8622-18bf77049e0c",
   "metadata": {},
   "outputs": [],
   "source": [
    "sns.barplot(x = df[\"Assisted_conception_IVF_ART\"].value_counts().index, y = df[\"Assisted_conception_IVF_ART\"].value_counts())\n",
    "plt.title(\"Assisted_conception_IVF_ART\")\n",
    "plt.show()"
   ]
  },
  {
   "cell_type": "markdown",
   "id": "5ce1318f-651d-4159-aebc-f1b11dcfadc1",
   "metadata": {},
   "source": [
    "# History_of_anomalies_in_previous_pregnancies"
   ]
  },
  {
   "cell_type": "code",
   "execution_count": null,
   "id": "99c4f873-6502-4002-b197-47361646d7f9",
   "metadata": {},
   "outputs": [],
   "source": [
    "sns.barplot(x = df[\"History_of_anomalies_in_previous_pregnancies\"].value_counts().index, \n",
    "            y = df[\"History_of_anomalies_in_previous_pregnancies\"].value_counts())\n",
    "plt.title(\"History_of_anomalies_in_previous_pregnancies\")\n",
    "plt.show()"
   ]
  },
  {
   "cell_type": "markdown",
   "id": "c24e4ef3-05b1-471c-b420-d8545f5ea10f",
   "metadata": {},
   "source": [
    "# Birth_defects "
   ]
  },
  {
   "cell_type": "code",
   "execution_count": null,
   "id": "0e04ade8-c65e-498c-a980-85e43b81f51a",
   "metadata": {},
   "outputs": [],
   "source": [
    "sns.barplot(x = df[\"Birth_defects\"].value_counts().index, y = df[\"Birth_defects\"].value_counts())\n",
    "plt.title(\"Birth_defects\")\n",
    "plt.show()"
   ]
  },
  {
   "cell_type": "markdown",
   "id": "230823f8-924e-420e-9001-4e419526926e",
   "metadata": {},
   "source": [
    "# Blood_test_result"
   ]
  },
  {
   "cell_type": "code",
   "execution_count": null,
   "id": "c95db57e-d02e-4149-a11e-37e7bd0b87d4",
   "metadata": {},
   "outputs": [],
   "source": [
    "sns.barplot(x = df[\"Blood_test_result\"].value_counts().index, y = df[\"Blood_test_result\"].value_counts())\n",
    "plt.title(\"Blood_test_result\")\n",
    "plt.show()"
   ]
  },
  {
   "cell_type": "markdown",
   "id": "ae08f1f6-c989-4187-9519-1bc46e731ef8",
   "metadata": {},
   "source": [
    "# Genetic_Disorder "
   ]
  },
  {
   "cell_type": "code",
   "execution_count": null,
   "id": "5c5d0f28-227e-48a4-97ee-10a252646f0b",
   "metadata": {},
   "outputs": [],
   "source": [
    "sns.barplot(y = df[\"Genetic_Disorder\"].value_counts().index, \n",
    "            x = df[\"Genetic_Disorder\"].value_counts())\n",
    "plt.title(\"Genetic_Disorder\")\n",
    "plt.xlabel(\"Count\")\n",
    "plt.ylabel(\"Genetic Disorder\")\n",
    "plt.show()"
   ]
  },
  {
   "cell_type": "markdown",
   "id": "9f9a5f48-074c-4af6-b3e4-fc5fec622a54",
   "metadata": {},
   "source": [
    "# Numerical Variable"
   ]
  },
  {
   "cell_type": "markdown",
   "id": "b6835de1-3610-49fd-8784-7bf15e607cdf",
   "metadata": {},
   "source": [
    "### Patient Age"
   ]
  },
  {
   "cell_type": "code",
   "execution_count": null,
   "id": "3159ab96-f67e-41c1-b2f2-cf8fca0a1dcb",
   "metadata": {},
   "outputs": [],
   "source": [
    "import seaborn as sns\n",
    "import matplotlib.pyplot as plt\n",
    "import pandas as pd"
   ]
  },
  {
   "cell_type": "code",
   "execution_count": null,
   "id": "c6ed8ce3-bcc1-43eb-a3df-069dc46e51e2",
   "metadata": {},
   "outputs": [],
   "source": [
    "sns.histplot(df[\"Patient_Age\"], bins=5, kde=True, color='purple')\n",
    "plt.title(\"Patient_Age\")\n",
    "plt.show()"
   ]
  },
  {
   "cell_type": "markdown",
   "id": "4f76c24d-dac9-4a27-801d-245ad7e3692e",
   "metadata": {},
   "source": [
    "# Blood cell count"
   ]
  },
  {
   "cell_type": "code",
   "execution_count": null,
   "id": "79ee3923-9741-41be-b812-587d7146abf4",
   "metadata": {},
   "outputs": [],
   "source": [
    "sns.histplot(df[\"Blood_cell_count\"], bins=5, kde=True, color='red')\n",
    "plt.title(\"Distribution of Blood_cell_count\")\n",
    "plt.show()"
   ]
  },
  {
   "cell_type": "markdown",
   "id": "03ef8b3b-d7b2-4d2f-a3d9-2907cf161fe5",
   "metadata": {},
   "source": [
    "# Mother's_Age"
   ]
  },
  {
   "cell_type": "code",
   "execution_count": null,
   "id": "3b7f757b-67e8-4ded-86e1-69dcb4b9c702",
   "metadata": {},
   "outputs": [],
   "source": [
    "sns.histplot(df[\"Mother's_age\"], bins=5, kde=True, color=\"purple\")\n",
    "plt.title(\"Mother's_age\")\n",
    "plt.show()"
   ]
  },
  {
   "cell_type": "markdown",
   "id": "c6a720ac-c460-4608-8634-6c96ffa26f7c",
   "metadata": {},
   "source": [
    "# Father's_Age"
   ]
  },
  {
   "cell_type": "code",
   "execution_count": null,
   "id": "07402830-a3b5-4ffe-b48d-05916d3b0d28",
   "metadata": {},
   "outputs": [],
   "source": [
    "sns.histplot(df[\"Father's_age\"], bins=5, kde=True, color=\"purple\")\n",
    "plt.title(\"Father's_age\")\n",
    "plt.show()"
   ]
  },
  {
   "cell_type": "markdown",
   "id": "6b9fe5a1-564a-4c4d-a4e7-958caae94483",
   "metadata": {},
   "source": [
    "# Test_1 "
   ]
  },
  {
   "cell_type": "code",
   "execution_count": null,
   "id": "92885d9f-dd81-4751-83c2-d4676a76c0ed",
   "metadata": {},
   "outputs": [],
   "source": [
    "sns.histplot(df[\"Test_1\"], bins=5, kde=True, color='purple')\n",
    "plt.title(\"Test_1\")\n",
    "plt.show()"
   ]
  },
  {
   "cell_type": "markdown",
   "id": "592187f7-1f7f-42a6-8139-465a43a2d356",
   "metadata": {},
   "source": [
    "# Test_2"
   ]
  },
  {
   "cell_type": "code",
   "execution_count": null,
   "id": "4134eeae-6c14-457b-abfb-fc233327e1c9",
   "metadata": {},
   "outputs": [],
   "source": [
    "sns.histplot(df[\"Test_2\"], bins=5, kde=True, color='purple')\n",
    "plt.title(\"Test_2\")\n",
    "plt.show()"
   ]
  },
  {
   "cell_type": "markdown",
   "id": "ab1e438c-5479-4b29-919d-6e60fc08f180",
   "metadata": {},
   "source": [
    "# Test_3"
   ]
  },
  {
   "cell_type": "code",
   "execution_count": null,
   "id": "0a9bbbab-3f2a-4b8b-89fa-8a5ea1c206ef",
   "metadata": {},
   "outputs": [],
   "source": [
    "sns.histplot(df[\"Test_3\"], bins=5, kde=True, color='purple')\n",
    "plt.title(\"Test_3\")\n",
    "plt.show()"
   ]
  },
  {
   "cell_type": "markdown",
   "id": "e671216e-54cc-47bb-85c7-2eafe456f24b",
   "metadata": {},
   "source": [
    "Test_4"
   ]
  },
  {
   "cell_type": "code",
   "execution_count": null,
   "id": "49c698cf-3d49-41b4-a877-9be6dc4f0f12",
   "metadata": {},
   "outputs": [],
   "source": [
    "sns.histplot(df[\"Test_4\"], bins=5, kde=True, color='purple')\n",
    "plt.title(\"Test_4\")\n",
    "plt.show()"
   ]
  },
  {
   "cell_type": "markdown",
   "id": "138c29b8-9b3c-4446-936c-8be71033d829",
   "metadata": {},
   "source": [
    "# Test_5"
   ]
  },
  {
   "cell_type": "code",
   "execution_count": null,
   "id": "b2690baa-5c37-4cf2-a6f9-a53359365eb2",
   "metadata": {},
   "outputs": [],
   "source": [
    "sns.histplot(df[\"Test_5\"], bins=5, kde=True, color='purple')\n",
    "plt.title(\"Test_5\")\n",
    "plt.show()"
   ]
  },
  {
   "cell_type": "markdown",
   "id": "7e17f274-ad11-47af-b9d1-de8a1983d221",
   "metadata": {},
   "source": [
    "# No of previous abortion "
   ]
  },
  {
   "cell_type": "code",
   "execution_count": null,
   "id": "db959ffe-7a76-4fe3-95cf-cfbfdf787a9b",
   "metadata": {},
   "outputs": [],
   "source": [
    "sns.histplot(df[\"No_of_previous_abortion\"], bins=5, kde=True, color='purple')\n",
    "plt.title(\"No_of_previous_abortion\")\n",
    "plt.show()"
   ]
  },
  {
   "cell_type": "markdown",
   "id": "1d38d33b-c3ba-4963-bc93-c399ed54fcfb",
   "metadata": {},
   "source": [
    "# White Blood cell count"
   ]
  },
  {
   "cell_type": "code",
   "execution_count": null,
   "id": "06116c29-26d7-45e7-b7f0-93ddb8a4bd4d",
   "metadata": {},
   "outputs": [],
   "source": [
    "sns.histplot(df[\"White_Blood_cell_count\"], bins=5, kde=True, color=\"red\")\n",
    "plt.title(\"Distribution of White_Blood_cell_count\")\n",
    "plt.show()"
   ]
  },
  {
   "cell_type": "markdown",
   "id": "1e2b41a6-7c84-4f5e-91dc-008e96dbf565",
   "metadata": {},
   "source": [
    "# Symptom 1 "
   ]
  },
  {
   "cell_type": "code",
   "execution_count": null,
   "id": "84b47ce7-2ad1-4cfd-8f63-fdbe8b87b689",
   "metadata": {},
   "outputs": [],
   "source": [
    "sns.histplot(df[\"Symptom_1\"], bins=5, kde=True, color='purple')\n",
    "plt.title(\"Symptom_1\")\n",
    "plt.show()"
   ]
  },
  {
   "cell_type": "markdown",
   "id": "7cd80ae5-db15-4393-a615-d87800cbc1c9",
   "metadata": {},
   "source": [
    "# Synptom 2"
   ]
  },
  {
   "cell_type": "code",
   "execution_count": null,
   "id": "5714f8cf-e568-4d29-9eee-b4b9cf8694e9",
   "metadata": {},
   "outputs": [],
   "source": [
    "sns.histplot(df[\"Symptom_2\"], bins=5, kde=True, color='purple')\n",
    "plt.title(\"Symptom_2\")\n",
    "plt.show()"
   ]
  },
  {
   "cell_type": "markdown",
   "id": "1b75d7e0-e0b4-4662-b9c2-22aa9a89d81d",
   "metadata": {},
   "source": [
    "# Synptom 3"
   ]
  },
  {
   "cell_type": "code",
   "execution_count": null,
   "id": "c144b5d8-9c2e-4b80-914b-d28b791bb918",
   "metadata": {},
   "outputs": [],
   "source": [
    "sns.histplot(df[\"Symptom_3\"], bins=5, kde=True, color='purple')\n",
    "plt.title(\"Symptom_3\")\n",
    "plt.show()"
   ]
  },
  {
   "cell_type": "markdown",
   "id": "c611796b-49fd-4b81-884b-35814213a4c1",
   "metadata": {},
   "source": [
    "# Synptom 4"
   ]
  },
  {
   "cell_type": "code",
   "execution_count": null,
   "id": "555cfc91-d914-4a9a-8c70-93ff21bf87aa",
   "metadata": {},
   "outputs": [],
   "source": [
    "sns.histplot(df[\"Symptom_4\"], bins=5, kde=True, color='purple')\n",
    "plt.title(\"Symptom_4\")\n",
    "plt.show()"
   ]
  },
  {
   "cell_type": "markdown",
   "id": "0e212a4c-1ed0-4ab6-8eb0-aeb8b7c76d8a",
   "metadata": {},
   "source": [
    "# Synptom 5"
   ]
  },
  {
   "cell_type": "code",
   "execution_count": null,
   "id": "cd98f860-1174-4188-937c-129a99ba08e1",
   "metadata": {},
   "outputs": [],
   "source": [
    "sns.histplot(df[\"Symptom_5\"], bins=5, kde=True, color='purple')\n",
    "plt.title(\"Symptom_5\")\n",
    "plt.show()"
   ]
  },
  {
   "cell_type": "markdown",
   "id": "a7647834-d02c-4389-8915-f9daa255db20",
   "metadata": {},
   "source": [
    "### Bivariate Analysis"
   ]
  },
  {
   "cell_type": "code",
   "execution_count": null,
   "id": "51b9ca55-70dd-478e-987d-8016e769bfda",
   "metadata": {},
   "outputs": [],
   "source": [
    "sns.pairplot(df)\n",
    "plt.show()"
   ]
  },
  {
   "cell_type": "markdown",
   "id": "f735c9ae-9345-4c94-a2e1-66566cc73d58",
   "metadata": {},
   "source": [
    "### Multivaiate Analysis"
   ]
  },
  {
   "cell_type": "code",
   "execution_count": null,
   "id": "9b75dd6a-ebed-4c4c-b933-329024995577",
   "metadata": {},
   "outputs": [],
   "source": [
    "sns.scatterplot(x = \"Patient_Age\", y = \"Blood_cell_count\", hue = \"Status\", data = df)\n",
    "plt.show()"
   ]
  },
  {
   "cell_type": "code",
   "execution_count": null,
   "id": "99c2064d-9d95-461d-baf5-3dc314f67889",
   "metadata": {},
   "outputs": [],
   "source": [
    "sns.scatterplot(x = \"Patient_Age\", y = \"Blood_cell_count\", hue = \"Genetic_Disorder\", data = df)\n",
    "plt.show()"
   ]
  },
  {
   "cell_type": "code",
   "execution_count": null,
   "id": "768d637c-7ac7-49fc-8ea1-f994531f68c1",
   "metadata": {},
   "outputs": [],
   "source": [
    "sns.scatterplot(x = \"Patient_Age\", y = \"Mother's_age\", hue = \"No_of_previous_abortion\", style=\"No_of_previous_abortion\", data = df)\n",
    "plt.show()"
   ]
  },
  {
   "cell_type": "markdown",
   "id": "d2dbbd10-fd96-4d05-8474-27cea01d474f",
   "metadata": {},
   "source": [
    "# Data Pre-Processing"
   ]
  },
  {
   "cell_type": "markdown",
   "id": "11c0f145-f6ff-4dc9-b18e-5e4eeb05f055",
   "metadata": {},
   "source": [
    "## Encoding Categorical data"
   ]
  },
  {
   "cell_type": "markdown",
   "id": "e49cfecb-3081-4d5d-a484-dc1d8ea1890a",
   "metadata": {},
   "source": [
    "### Encoding the Independent variable(two variables)"
   ]
  },
  {
   "cell_type": "code",
   "execution_count": null,
   "id": "6ff362cf-7a30-405a-9bd6-6b7291573507",
   "metadata": {},
   "outputs": [],
   "source": [
    "from sklearn.preprocessing import LabelEncoder\n",
    "le = LabelEncoder()\n",
    "df[\"Genes_in_mother's_side\"] = le.fit_transform(df[\"Genes_in_mother's_side\"])\n",
    "df[\"Inherited_from_father\"] = le.fit_transform(df[\"Inherited_from_father\"])\n",
    "df[\"Maternal_gene\"] = le.fit_transform(df[\"Maternal_gene\"])\n",
    "df[\"Paternal_gene\"] = le.fit_transform(df[\"Paternal_gene\"])\n",
    "df[\"Status\"] = le.fit_transform(df[\"Status\"])\n",
    "df[\"Respiratory_Rate\"] = le.fit_transform(df[\"Respiratory_Rate\"])\n",
    "df[\"Heart_Rate\"] = le.fit_transform(df[\"Heart_Rate\"])\n",
    "df[\"Parental_consent\"] = le.fit_transform(df[\"Parental_consent\"])\n",
    "df[\"Follow_up\"] = le.fit_transform(df[\"Follow_up\"])\n",
    "df[\"Gender\"] = le.fit_transform(df[\"Gender\"])\n",
    "df[\"Place_of_birth\"] = le.fit_transform(df[\"Place_of_birth\"])\n",
    "df[\"Folic_acid_details\"] = le.fit_transform(df[\"Folic_acid_details\"])\n",
    "df[\"HO_serious_maternal_illness\"] = le.fit_transform(df[\"HO_serious_maternal_illness\"])\n",
    "df[\"Assisted_conception_IVF_ART\"] = le.fit_transform(df[\"Assisted_conception_IVF_ART\"])\n",
    "df[\"History_of_anomalies_in_previous_pregnancies\"] = le.fit_transform(df[\"History_of_anomalies_in_previous_pregnancies\"])\n",
    "df[\"Birth_defects\"] = le.fit_transform(df[\"Birth_defects\"])"
   ]
  },
  {
   "cell_type": "code",
   "execution_count": null,
   "id": "f11ab8bc-17f3-4a63-a182-42ae634b64f7",
   "metadata": {},
   "outputs": [],
   "source": [
    "df"
   ]
  },
  {
   "cell_type": "markdown",
   "id": "3137d3d5-12b0-4e7a-8474-14276bc98aae",
   "metadata": {},
   "source": [
    "### Encoding the Independent variable(more than two variables)"
   ]
  },
  {
   "cell_type": "code",
   "execution_count": null,
   "id": "b2502de3-a0fe-4b40-ac44-c6d9a4171a73",
   "metadata": {},
   "outputs": [],
   "source": [
    "x = df.drop('Status', axis=1).values\n",
    "\n",
    "y = df['Status'].values\n"
   ]
  },
  {
   "cell_type": "code",
   "execution_count": null,
   "id": "1d334e05-7ede-44f5-9962-86a588a322c2",
   "metadata": {},
   "outputs": [],
   "source": [
    "from sklearn.compose import ColumnTransformer\n",
    "from sklearn.preprocessing import OneHotEncoder\n",
    "ct = ColumnTransformer(transformers = [('encoder', OneHotEncoder(), [18, 19, 23, 24, 30, 36, 37])], remainder = 'passthrough')\n",
    "x = np.array(ct.fit_transform(x))"
   ]
  },
  {
   "cell_type": "code",
   "execution_count": null,
   "id": "cabb231a-0d7e-457a-ae12-e88c65a290f3",
   "metadata": {},
   "outputs": [],
   "source": [
    "x[0] "
   ]
  },
  {
   "cell_type": "markdown",
   "id": "e5662eef-eef4-4b17-a235-863eb94f841f",
   "metadata": {},
   "source": [
    "# Encoding Dependent variable"
   ]
  },
  {
   "cell_type": "code",
   "execution_count": null,
   "id": "8f20d3e3-ec9e-40ec-8e57-0942ca855893",
   "metadata": {},
   "outputs": [],
   "source": [
    "from sklearn.preprocessing import LabelEncoder\n",
    "le = LabelEncoder() \n",
    "y = le.fit_transform(y)"
   ]
  },
  {
   "cell_type": "code",
   "execution_count": null,
   "id": "8f7058e2-020f-463a-8641-4c3c99a6571a",
   "metadata": {},
   "outputs": [],
   "source": [
    "y"
   ]
  },
  {
   "cell_type": "markdown",
   "id": "a33b6bf5-86de-49fc-a4f3-a1752edf1718",
   "metadata": {},
   "source": [
    "# Splitting the dataset into the Training set and Test set"
   ]
  },
  {
   "cell_type": "code",
   "execution_count": null,
   "id": "35ada433-1b66-482a-bfe1-91380b5ab1e8",
   "metadata": {},
   "outputs": [],
   "source": [
    "from sklearn.model_selection import train_test_split\n",
    "x_train, x_test, y_train, y_test = train_test_split(x, y, test_size = 0.2, random_state = 5)"
   ]
  },
  {
   "cell_type": "code",
   "execution_count": null,
   "id": "9be9c7d5-3a53-431d-8635-6b57cb5857d1",
   "metadata": {},
   "outputs": [],
   "source": [
    "x_train.shape"
   ]
  },
  {
   "cell_type": "code",
   "execution_count": null,
   "id": "e2931e1d-d0e2-41e4-ada9-00a497972cdf",
   "metadata": {},
   "outputs": [],
   "source": [
    "x_test.shape"
   ]
  },
  {
   "cell_type": "markdown",
   "id": "1aa4bbe0-4ab6-474f-922d-4dacc9965e67",
   "metadata": {},
   "source": [
    "# Feature Scaling"
   ]
  },
  {
   "cell_type": "code",
   "execution_count": null,
   "id": "5e995b9d-88e4-4387-b3e0-738403e17298",
   "metadata": {},
   "outputs": [],
   "source": [
    "from sklearn.preprocessing import StandardScaler\n",
    "sc = StandardScaler()\n",
    "x_train[:, [26, 31, 32, 33, 51]] = sc.fit_transform(x_train[:, [26, 31, 32, 33, 51]])\n",
    "x_test[:, [26, 31, 32, 33, 51]] = sc.transform(x_test[:, [26, 31, 32, 33, 51]])"
   ]
  },
  {
   "cell_type": "code",
   "execution_count": null,
   "id": "83a86f2d-62e6-47d6-a969-4e2781ffb8eb",
   "metadata": {},
   "outputs": [],
   "source": [
    "x_train[0]"
   ]
  },
  {
   "cell_type": "markdown",
   "id": "c929a679-ce91-491a-860c-94a115876ab0",
   "metadata": {},
   "source": [
    "# Model building"
   ]
  },
  {
   "cell_type": "markdown",
   "id": "d21e79d0-9e4b-4c9f-8ba3-801bbdebaa59",
   "metadata": {},
   "source": [
    "# SVM"
   ]
  },
  {
   "cell_type": "code",
   "execution_count": null,
   "id": "d595a159-bd9f-4595-9f99-97d9aaa58690",
   "metadata": {},
   "outputs": [],
   "source": [
    "from sklearn.svm import SVC\n",
    "classifier = SVC(kernel = 'linear', random_state = 5)\n",
    "classifier.fit(x_train, y_train)"
   ]
  },
  {
   "cell_type": "markdown",
   "id": "cf2b99d7-bec1-45e2-bab0-7b2d25ff9739",
   "metadata": {},
   "source": [
    "# Predicting the Test set result"
   ]
  },
  {
   "cell_type": "code",
   "execution_count": null,
   "id": "cb3fa16e-0f82-4c7b-955f-621627ba38a5",
   "metadata": {},
   "outputs": [],
   "source": [
    "y_pred = classifier.predict(x_test)\n",
    "print(np.concatenate((y_pred.reshape(len(y_pred),1), y_test.reshape(len(y_test),1)),1))"
   ]
  },
  {
   "cell_type": "markdown",
   "id": "db23a605-197a-468c-b31c-c2364b182f90",
   "metadata": {},
   "source": [
    "# Checking the Confusion matrix"
   ]
  },
  {
   "cell_type": "code",
   "execution_count": null,
   "id": "b3a3c13b-961c-4485-a1fd-6be07e8e9143",
   "metadata": {},
   "outputs": [],
   "source": [
    "from sklearn.metrics import confusion_matrix, accuracy_score\n",
    "cm = confusion_matrix(y_test, y_pred)\n",
    "print(cm)\n",
    "accuracy_score(y_test, y_pred)"
   ]
  },
  {
   "cell_type": "markdown",
   "id": "9aabc8d5-c4aa-452a-aa6c-2aaadeb3d991",
   "metadata": {},
   "source": [
    "# Random Forest"
   ]
  },
  {
   "cell_type": "code",
   "execution_count": null,
   "id": "eac465f0-776b-43d9-a443-95e3dfebed26",
   "metadata": {},
   "outputs": [],
   "source": [
    "from sklearn.ensemble import RandomForestClassifier\n",
    "classifier = RandomForestClassifier(n_estimators = 10, criterion = 'entropy', random_state = 5)\n",
    "classifier.fit(x_train, y_train)"
   ]
  },
  {
   "cell_type": "code",
   "execution_count": null,
   "id": "a4231a30-fcb3-462b-8ab7-5021df0a87d5",
   "metadata": {},
   "outputs": [],
   "source": [
    "y_pred = classifier.predict(x_test)\n",
    "print(np.concatenate((y_pred.reshape(len(y_pred),1), y_test.reshape(len(y_test),1)),1))"
   ]
  },
  {
   "cell_type": "markdown",
   "id": "2a2b43e0-f2c0-40de-87b4-a421337c71f7",
   "metadata": {},
   "source": [
    "# Making the Confusion matrix"
   ]
  },
  {
   "cell_type": "code",
   "execution_count": null,
   "id": "dc396cd2-3ac0-4bc8-ad04-00d15c6979d5",
   "metadata": {},
   "outputs": [],
   "source": [
    "from sklearn.metrics import confusion_matrix, accuracy_score\n",
    "cm = confusion_matrix(y_test, y_pred)\n",
    "print(cm)\n",
    "accuracy_score(y_test, y_pred)"
   ]
  },
  {
   "cell_type": "markdown",
   "id": "fa0e13ab-24ed-41ad-868a-7f124d9dbe37",
   "metadata": {},
   "source": [
    "# Decision Tree"
   ]
  },
  {
   "cell_type": "code",
   "execution_count": null,
   "id": "e573103e-c423-4dec-bbd5-210dd71722c4",
   "metadata": {},
   "outputs": [],
   "source": [
    "from sklearn.tree import DecisionTreeClassifier\n",
    "classifier = DecisionTreeClassifier(criterion = 'entropy', random_state = 5)\n",
    "classifier.fit(x_train, y_train)"
   ]
  },
  {
   "cell_type": "code",
   "execution_count": null,
   "id": "a6a24222-c3e4-4517-a5fd-d0d37edf9b10",
   "metadata": {},
   "outputs": [],
   "source": [
    "y_pred = classifier.predict(x_test)\n",
    "print(np.concatenate((y_pred.reshape(len(y_pred), 1), y_test.reshape(len(y_test), 1)),1))"
   ]
  },
  {
   "cell_type": "markdown",
   "id": "9b70418e-da1f-44c2-a227-f5390acbed53",
   "metadata": {},
   "source": [
    "# Making the Confusion Matrix"
   ]
  },
  {
   "cell_type": "code",
   "execution_count": null,
   "id": "034118ae-cda9-4b2c-9eda-4946825d2296",
   "metadata": {},
   "outputs": [],
   "source": [
    "from sklearn.metrics import confusion_matrix, accuracy_score\n",
    "cm = confusion_matrix(y_test, y_pred)\n",
    "print(cm)\n",
    "accuracy_score(y_test, y_pred)"
   ]
  },
  {
   "cell_type": "markdown",
   "id": "29055e18-318e-4ddc-bbfb-6ddef74fb7b1",
   "metadata": {},
   "source": [
    "# Performance Analysis and Model Comparison"
   ]
  },
  {
   "cell_type": "markdown",
   "id": "a18c8d91-4be4-4fdc-a775-ab9a10cde22e",
   "metadata": {},
   "source": [
    "I evaluated three models: **Support Vector Machine (SVM), Random Forest, and Decision Tree** using their confusion matrices and accuracy scores. All three models achieved perfect accuracy."
   ]
  },
  {
   "cell_type": "markdown",
   "id": "4c0ab202-9d3b-487c-8ae0-858e5db81667",
   "metadata": {},
   "source": [
    "## Accuracy Comparison"
   ]
  },
  {
   "cell_type": "code",
   "execution_count": null,
   "id": "5087fdf3-7372-45dc-aafa-d4c52736d2d6",
   "metadata": {},
   "outputs": [],
   "source": [
    "SVM                                          1.0 (100%)"
   ]
  },
  {
   "cell_type": "code",
   "execution_count": null,
   "id": "8ab2f0c1-e8d9-43ae-bc7d-07b08a1a5d12",
   "metadata": {},
   "outputs": [],
   "source": [
    "Random Forest                                1.0 (100%)"
   ]
  },
  {
   "cell_type": "code",
   "execution_count": null,
   "id": "ce7afb03-44e5-4581-9a62-5d32376f1a29",
   "metadata": {},
   "outputs": [],
   "source": [
    "Decision Tree                                1.0 (100%)"
   ]
  },
  {
   "cell_type": "markdown",
   "id": "da4ea6e2-ab44-4626-838d-1f6c8e4524d0",
   "metadata": {},
   "source": [
    "## Confusion Matrix Insights"
   ]
  },
  {
   "cell_type": "markdown",
   "id": "298712ee-f72f-45c8-831e-e2c59b56ce77",
   "metadata": {},
   "source": [
    "### SVM                \n",
    "                [98 0 ] \n",
    "                [0  70]"
   ]
  },
  {
   "cell_type": "markdown",
   "id": "2f83e5b7-0db0-44a7-9be2-ed4cedc8cccc",
   "metadata": {},
   "source": [
    "## Random Forest\n",
    "\n",
    "                [98 0 ] \n",
    "                [0  70]"
   ]
  },
  {
   "cell_type": "markdown",
   "id": "cbec7a5d-abbb-44c5-a037-86a9b84f887c",
   "metadata": {},
   "source": [
    "## Decision Tree\n",
    "\n",
    "                [98 0 ] \n",
    "                [0  70]"
   ]
  },
  {
   "cell_type": "markdown",
   "id": "91ed2fc8-d388-4346-ad84-6d7312d46f9e",
   "metadata": {},
   "source": [
    "# Key Findings"
   ]
  },
  {
   "cell_type": "code",
   "execution_count": null,
   "id": "cb7bf653-124b-4b9e-adf0-9533c58ad468",
   "metadata": {},
   "outputs": [],
   "source": [
    "1. All three models perfectly classified the dataset, achieving 100% accuracy.\n",
    "\n",
    "2. There were no False Positives (FP) or False Negatives (FN) for any of the models.\n",
    "\n",
    "3. The dataset appears to be easy to classify, suggesting that all models performed exceptionally well."
   ]
  },
  {
   "cell_type": "markdown",
   "id": "41505a84-14f9-457a-82ab-612ce5a1d7c0",
   "metadata": {},
   "source": [
    "# Best Performing Model and Justification"
   ]
  },
  {
   "cell_type": "markdown",
   "id": "381da6b1-6f7c-4154-b2df-21bcf8652555",
   "metadata": {},
   "source": [
    "### Since all models achieved a perfect score, we need to evaluate them based on other factors:"
   ]
  },
  {
   "cell_type": "markdown",
   "id": "77158f58-a138-4ca9-a3ea-d176c559b701",
   "metadata": {},
   "source": [
    "Model\t               Accuracy\t                    Interpretability\t                    Overfitting Risk\t                 Scalability\n",
    "SVM\t                     1.0\t                          Low\t                                  Low\t                             Moderate\n",
    "Random Forest\t         1.0\t                         Moderate\t                              Low\t                             High\n",
    "Decision Tree\t         1.0\t                          High\t                                  High\t                             High"
   ]
  },
  {
   "cell_type": "markdown",
   "id": "fa6d7532-ca2b-47c5-befa-fe8967b21bf6",
   "metadata": {},
   "source": [
    "## Chosen Model: Random Forest"
   ]
  },
  {
   "cell_type": "markdown",
   "id": "555412cb-c37c-4515-858e-a8b5635484a0",
   "metadata": {},
   "source": [
    "### Justification"
   ]
  },
  {
   "cell_type": "code",
   "execution_count": null,
   "id": "0cd22b82-6d05-4a72-abc2-63a3ce48be22",
   "metadata": {},
   "outputs": [],
   "source": [
    "1. Provides a balance between accuracy and robustness by averaging multiple decision trees.\n",
    "\n",
    "2. Reduces overfitting, unlike a single Decision Tree.\n",
    "\n",
    "3. Scalable for larger datasets.\n",
    "\n",
    "4. Performs well even when some features are less important."
   ]
  },
  {
   "cell_type": "markdown",
   "id": "52969690-220f-4232-84df-2fcd558e17bb",
   "metadata": {},
   "source": [
    "# Recommendations for Improving Model Performance"
   ]
  },
  {
   "cell_type": "code",
   "execution_count": null,
   "id": "43adee05-a0a4-4d87-b26c-b04b30cfa8e0",
   "metadata": {},
   "outputs": [],
   "source": [
    "1. Cross-Validation:\n",
    "\n",
    "    ● Implement k-fold cross-validation to ensure robustness and prevent overfitting.\n",
    "\n",
    "2. Hyperparameter Tuning:\n",
    "\n",
    "    ● For Random Forest, adjust parameters like n_estimators, max_depth, and min_samples_split.\n",
    "\n",
    "    ● For SVM, fine-tune C and gamma parameters.\n",
    "\n",
    "3. Feature Selection:\n",
    "\n",
    "    ● Ensure relevant features are included to improve model generalization.\n",
    "\n",
    "4. Ensemble Methods:\n",
    "\n",
    "    ● Consider using boosting techniques (e.g., XGBoost, AdaBoost) to enhance performance."
   ]
  },
  {
   "cell_type": "markdown",
   "id": "15536c12-318b-497e-9c83-1b930009c0b2",
   "metadata": {},
   "source": [
    "# Limitations of the Dataset or Models"
   ]
  },
  {
   "cell_type": "markdown",
   "id": "8b47b297-c1f7-44d1-9ab8-cc4e5d50dca2",
   "metadata": {},
   "source": [
    "1. Dataset Imbalance:\n",
    "\n",
    "   ● The confusion matrices indicate a balanced dataset; however, this perfect accuracy may be due to an easy classification problem.\n",
    "\n",
    "   ● Testing on a more challenging dataset or applying synthetic noise would provide a clearer evaluation.\n",
    "\n",
    "2. Risk (Decision Tree):\n",
    "\n",
    "   ● A single Decision Tree may overfit, especially if the dataset is large or noisy.\n",
    "\n",
    "3. Lack of Diversity in Evaluation Metrics:\n",
    "\n",
    "   ● Relying solely on accuracy is not enough. Metrics like Precision, Recall, and F1-Score should be considered for a more thorough analysis.\n",
    "\n",
    "4. Scalability Concerns:\n",
    "\n",
    "   ● While Random Forest is robust, its performance can degrade with very large datasets if not tuned properly."
   ]
  },
  {
   "cell_type": "markdown",
   "id": "e2dde1fa-11dc-46bc-9b51-10c06d43f8be",
   "metadata": {},
   "source": [
    "# Conclusion"
   ]
  },
  {
   "cell_type": "code",
   "execution_count": null,
   "id": "a26dd857-571e-4bea-a7fb-e50a2a05f1aa",
   "metadata": {},
   "outputs": [],
   "source": [
    "1. Random Forest is the most reliable model considering accuracy, robustness against overfitting, and scalability.\n",
    "\n",
    "2. Improvements could include cross-validation, hyperparameter tuning, and testing on more complex datasets.\n",
    "\n",
    "3. It is essential to consider precision, recall, and F1-score for a more comprehensive evaluation."
   ]
  },
  {
   "cell_type": "code",
   "execution_count": null,
   "id": "2caa7175-92ba-4e21-9d6a-0482855a8338",
   "metadata": {},
   "outputs": [],
   "source": []
  },
  {
   "cell_type": "code",
   "execution_count": null,
   "id": "c9928df9-89d9-47a0-b6f3-c47a23076c8c",
   "metadata": {},
   "outputs": [],
   "source": []
  },
  {
   "cell_type": "code",
   "execution_count": null,
   "id": "41ea8a2f-fc8c-48b6-bf18-bc7ff448b092",
   "metadata": {},
   "outputs": [],
   "source": []
  },
  {
   "cell_type": "code",
   "execution_count": null,
   "id": "37bde933-1220-4bfb-a5a0-010cf8794c54",
   "metadata": {},
   "outputs": [],
   "source": []
  },
  {
   "cell_type": "code",
   "execution_count": null,
   "id": "c444bcd8-28e0-4f8a-ae61-afaabba4c52a",
   "metadata": {},
   "outputs": [],
   "source": []
  },
  {
   "cell_type": "code",
   "execution_count": null,
   "id": "762c55c7-af57-4c4e-ab58-690e4bdce718",
   "metadata": {},
   "outputs": [],
   "source": []
  }
 ],
 "metadata": {
  "kernelspec": {
   "display_name": "Python 3 (ipykernel)",
   "language": "python",
   "name": "python3"
  },
  "language_info": {
   "codemirror_mode": {
    "name": "ipython",
    "version": 3
   },
   "file_extension": ".py",
   "mimetype": "text/x-python",
   "name": "python",
   "nbconvert_exporter": "python",
   "pygments_lexer": "ipython3",
   "version": "3.12.7"
  }
 },
 "nbformat": 4,
 "nbformat_minor": 5
}
